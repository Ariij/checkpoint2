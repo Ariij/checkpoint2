{
 "cells": [
  {
   "cell_type": "code",
   "execution_count": 6,
   "metadata": {},
   "outputs": [
    {
     "name": "stdout",
     "output_type": "stream",
     "text": [
      "please input your first name here: arij\n",
      "please input your last name here: sahli\n",
      "your name is:  sahli arij\n"
     ]
    }
   ],
   "source": [
    "#question 1 \n",
    "firstname= input(\"please input your first name here: \") #enter the first name\n",
    "lastname= input(\"please input your last name here: \") #enter the last name\n",
    "print(\"your name is: \", lastname + \" \"+ firstname)   # the result\n"
   ]
  },
  {
   "cell_type": "code",
   "execution_count": 7,
   "metadata": {},
   "outputs": [
    {
     "name": "stdout",
     "output_type": "stream",
     "text": [
      "sample value of n is 5\n",
      "the result is 615\n"
     ]
    }
   ],
   "source": [
    "#question 2\n",
    "n= input(\"sample value of n is \") #enter the value of n\n",
    "n=int(n)                          #convert it into integer \n",
    "value= n+(n+10*n)+(n+10*n+100*n)  #get the result \n",
    "print(\"the result is\", value)     #the result"
   ]
  },
  {
   "cell_type": "code",
   "execution_count": 24,
   "metadata": {},
   "outputs": [
    {
     "name": "stdout",
     "output_type": "stream",
     "text": [
      "please enter a number: 29\n",
      "This is an odd number.\n"
     ]
    }
   ],
   "source": [
    "#question 3\n",
    "n= input(\"please enter a number: \") #enter the value of n\n",
    "n=int(n)                            #convert it into integer \n",
    "mod = n % 2                         #get the mode of n divised by 2\n",
    "if mod > 0:\n",
    "    print(\"This is an odd number.\")   \n",
    "else:\n",
    "    print(\"This is an even number.\")"
   ]
  },
  {
   "cell_type": "code",
   "execution_count": 51,
   "metadata": {},
   "outputs": [
    {
     "name": "stdout",
     "output_type": "stream",
     "text": [
      "please enter the year: 1990\n",
      "this is not a leap year\n"
     ]
    }
   ],
   "source": [
    "#question 4\n",
    "year= input(\"please enter the year: \") #enter the year by the user\n",
    "year= int(year) #the year must be a number\n",
    "value= str(year%100)+str(year % 10) #this function is used to check whether the two last digits are 00 or not\n",
    "                                    #if the last two digits are 00, it will be noted as that value, else, it won't give the right two digits but it will be diffrent from 00\n",
    "if value==\"00\":\n",
    "    print(\"this is not a leap year\")\n",
    "elif year%4==0:\n",
    "    print(\"this is a leap year\")\n",
    "else:\n",
    "    print(\"this is not a leap year\")"
   ]
  },
  {
   "cell_type": "code",
   "execution_count": 69,
   "metadata": {},
   "outputs": [
    {
     "name": "stdout",
     "output_type": "stream",
     "text": [
      "please input the string: hello world\n",
      "the result is:  hlowrd\n"
     ]
    }
   ],
   "source": [
    "#question 5\n",
    "phrase= input(\"please input the string: \") #enter the string\n",
    "result=\"\"\n",
    "for i in range(len(phrase)):               \n",
    "    if i % 2 == 0:\n",
    "      result = result + phrase[i]\n",
    "    \n",
    "print(\"the result is: \", result) "
   ]
  },
  {
   "cell_type": "code",
   "execution_count": 76,
   "metadata": {},
   "outputs": [
    {
     "name": "stdout",
     "output_type": "stream",
     "text": [
      "please enter your price: 10\n",
      "the final value of the price is:  9.0\n"
     ]
    }
   ],
   "source": [
    "#question 6\n",
    "price= input(\"please enter your price: \") #enter the price\n",
    "price= int(price)                         #convert it into an integer\n",
    "\n",
    "if (price>=500):\n",
    "    value= price - (price*0.5)\n",
    "elif (price>=200):\n",
    "     value= price-(price*0.3)\n",
    "else:\n",
    "     value= price-(price*0.1)\n",
    "        \n",
    "print(\"the final value of the price is: \", value)"
   ]
  },
  {
   "cell_type": "code",
   "execution_count": null,
   "metadata": {},
   "outputs": [],
   "source": []
  }
 ],
 "metadata": {
  "kernelspec": {
   "display_name": "Python 3",
   "language": "python",
   "name": "python3"
  },
  "language_info": {
   "codemirror_mode": {
    "name": "ipython",
    "version": 3
   },
   "file_extension": ".py",
   "mimetype": "text/x-python",
   "name": "python",
   "nbconvert_exporter": "python",
   "pygments_lexer": "ipython3",
   "version": "3.7.6"
  }
 },
 "nbformat": 4,
 "nbformat_minor": 4
}
